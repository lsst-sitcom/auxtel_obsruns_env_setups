{
 "cells": [
  {
   "cell_type": "markdown",
   "id": "functioning-fundamentals",
   "metadata": {},
   "source": [
    "## This notebook is used to verify the packages in this notebook environment are consistent with what is expected for this run"
   ]
  },
  {
   "cell_type": "code",
   "execution_count": null,
   "id": "connected-bloom",
   "metadata": {},
   "outputs": [],
   "source": [
    "from python.lsst.sitcom.checkEnvironment import testEnvironment"
   ]
  },
  {
   "cell_type": "code",
   "execution_count": null,
   "id": "eligible-breed",
   "metadata": {},
   "outputs": [],
   "source": [
    "# scripts are found in auxtel_obsruns_env_setups/bash/lsst/sitcom\n",
    "bash_script = 'package_setup-obsrun-2022-12A.sh'"
   ]
  },
  {
   "cell_type": "code",
   "execution_count": null,
   "id": "enclosed-deputy",
   "metadata": {},
   "outputs": [],
   "source": [
    "testEnvironment(bash_script)"
   ]
  }
 ],
 "metadata": {
  "kernelspec": {
   "display_name": "Python 3.9.7 ('base')",
   "language": "python",
   "name": "python3"
  },
  "language_info": {
   "codemirror_mode": {
    "name": "ipython",
    "version": 3
   },
   "file_extension": ".py",
   "mimetype": "text/x-python",
   "name": "python",
   "nbconvert_exporter": "python",
   "pygments_lexer": "ipython3",
   "version": "3.9.7"
  },
  "vscode": {
   "interpreter": {
    "hash": "a9a7d796364cf8b7af3b12f18c24af6c85710f96a83c2b827f8cefb2df8e6d8d"
   }
  }
 },
 "nbformat": 4,
 "nbformat_minor": 5
}
