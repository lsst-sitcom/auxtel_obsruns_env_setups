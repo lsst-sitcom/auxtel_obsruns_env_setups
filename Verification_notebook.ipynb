{
 "cells": [
  {
   "cell_type": "markdown",
   "id": "functioning-fundamentals",
   "metadata": {},
   "source": [
    "## This notebook is used to verify the packages in this notebook environment are consistent with what is expected for this run"
   ]
  },
  {
   "cell_type": "code",
   "execution_count": null,
   "id": "connected-bloom",
   "metadata": {},
   "outputs": [],
   "source": [
    "from python.lsst.sitcom.checkEnvironment import testEnvironment"
   ]
  },
  {
   "cell_type": "code",
   "execution_count": null,
   "id": "eligible-breed",
   "metadata": {},
   "outputs": [],
   "source": [
    "# scripts are found in auxtel_obsruns_env_setups/bash/lsst/sitcom\n",
    "bash_script = 'package_setup-obsrun-2022-07A.sh'"
   ]
  },
  {
   "cell_type": "code",
   "execution_count": null,
   "id": "enclosed-deputy",
   "metadata": {},
   "outputs": [],
   "source": [
    "testEnvironment(bash_script)"
   ]
  }
 ],
 "metadata": {
  "kernelspec": {
   "display_name": "LSST",
   "language": "python",
   "name": "lsst"
  },
  "language_info": {
   "codemirror_mode": {
    "name": "ipython",
    "version": 3
   },
   "file_extension": ".py",
   "mimetype": "text/x-python",
   "name": "python",
   "nbconvert_exporter": "python",
   "pygments_lexer": "ipython3",
   "version": "3.8.8"
  }
 },
 "nbformat": 4,
 "nbformat_minor": 5
}
